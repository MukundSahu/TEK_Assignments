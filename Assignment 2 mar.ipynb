{
 "cells": [
  {
   "cell_type": "code",
   "execution_count": null,
   "id": "838fc387",
   "metadata": {},
   "outputs": [],
   "source": [
    "# question 3\n",
    "# A school method based Python3\n",
    "# program to check if a number\n",
    "# is prime\n",
    "\n",
    "def prime(n):\n",
    "\n",
    "\t# Corner case\n",
    "\tif n <= 1:\n",
    "\t\treturn False\n",
    "\n",
    "\t# Check from 2 to n-1\n",
    "\tfor i in range(2, n):\n",
    "\t\tif n % i == 0:\n",
    "\t\t\treturn False;\n",
    "\n",
    "\treturn True\n",
    "\n",
    "\n",
    "import numpy as np\n",
    "s=[]\n",
    "a=int(input(\"Enter the length of the array\"))\n",
    "row=int(input('Enter the number of rows: '))\n",
    "col=int(input(\"enter the number of column: \"))\n",
    "for i in range(a):\n",
    "    s.append(int(input(\"Enter the number\")))\n",
    "m=np.array(s)\n",
    "m = m.reshape(row,col)\n",
    "count=0\n",
    "add=0\n",
    "for i in range(row):\n",
    "    for j in range(col):\n",
    "        if prime(count):\n",
    "            add=add+m[i][j]+(m[i][j])**3\n",
    "            m[i][j]=(m[i][j])**3\n",
    "        count+=1\n",
    "print(m)\n",
    "print(add) "
   ]
  },
  {
   "cell_type": "code",
   "execution_count": null,
   "id": "580f79c6",
   "metadata": {},
   "outputs": [],
   "source": []
  },
  {
   "cell_type": "code",
   "execution_count": null,
   "id": "e3164488",
   "metadata": {},
   "outputs": [],
   "source": [
    "import numpy as np\n",
    "a=int(input('Enter the length of first array: '))\n",
    "b=int(input('Enter the length of the second array: '))\n",
    "c=[]\n",
    "d=[]\n",
    "for i in range(a):\n",
    "    c.append(int(input('Enter the number: ')))\n",
    "for i in range(b):\n",
    "    d.append(int(input('Enter the number: ')))\n",
    "m=np.array(c)\n",
    "n=np.array(d)\n",
    "common_elements = np.intersect1d(m, n)\n",
    "print(common_elements)\n",
    "\n"
   ]
  },
  {
   "cell_type": "code",
   "execution_count": 15,
   "id": "a3b59235",
   "metadata": {},
   "outputs": [
    {
     "name": "stdout",
     "output_type": "stream",
     "text": [
      "[[  7  14  21  28  35  42  49]\n",
      " [ 56  63  70  77  84  91  98]\n",
      " [105 112 119 126 133 140 147]\n",
      " [154 161 168 175 182 189 196]\n",
      " [203 210 217 224 231 238 245]\n",
      " [252 259 266 273 280 287 294]\n",
      " [301 308 315 322 329 336 343]]\n",
      "343\n"
     ]
    }
   ],
   "source": [
    "#\n",
    "import numpy as np\n",
    "a=np.arange(7,344,7)\n",
    "a=a.reshape(7,7)\n",
    "print(a)\n",
    "print (a[6][6])"
   ]
  },
  {
   "cell_type": "code",
   "execution_count": 271,
   "id": "9f41b360",
   "metadata": {},
   "outputs": [
    {
     "name": "stdout",
     "output_type": "stream",
     "text": [
      "v1s9Z>\n",
      "['1', 'Z', 's', 'v', '9', '>']\n"
     ]
    }
   ],
   "source": [
    "import string\n",
    "import random\n",
    "\n",
    "a=''\n",
    "for i in range(2):\n",
    "    a+=random.choice(string.ascii_lowercase)\n",
    "    a+=random.choice(string.digits)\n",
    "a+=random.choice(string.ascii_uppercase)\n",
    "a+=random.choice(string.punctuation)\n",
    "print(a)\n",
    "j=[]\n",
    "for i in range(len(a)):\n",
    "    j.append(a[i])\n",
    "random.shuffle(j)\n",
    "print(j)\n",
    "    "
   ]
  },
  {
   "cell_type": "code",
   "execution_count": 290,
   "id": "0a1f8f19",
   "metadata": {},
   "outputs": [
    {
     "name": "stdout",
     "output_type": "stream",
     "text": [
      "[[1. 1. 1. 1. 1.]\n",
      " [1. 1. 1. 1. 1.]\n",
      " [1. 1. 1. 1. 1.]\n",
      " [1. 1. 1. 1. 1.]\n",
      " [1. 1. 1. 1. 1.]\n",
      " [1. 1. 1. 1. 1.]\n",
      " [1. 1. 1. 1. 1.]]\n"
     ]
    }
   ],
   "source": [
    "import numpy as np\n",
    "a=np.ones((7,5))\n",
    "print(a)"
   ]
  },
  {
   "cell_type": "code",
   "execution_count": 1,
   "id": "112555fc",
   "metadata": {},
   "outputs": [
    {
     "name": "stdout",
     "output_type": "stream",
     "text": [
      "Enter the number of rows5\n",
      "Enter the number of columns5\n",
      "[[1 0 1 0 1]\n",
      " [0 1 0 1 0]\n",
      " [1 0 1 0 1]\n",
      " [0 1 0 1 0]\n",
      " [1 0 1 0 1]]\n"
     ]
    }
   ],
   "source": [
    "import numpy as np\n",
    "a,b=int(input('Enter the number of rows')),int(input(\"Enter the number of columns\"))\n",
    "arr=np.zeros((a,b),dtype='int16')\n",
    "for i in range(a):\n",
    "    for j in range(b):\n",
    "        if i%2==0 and j%2==0:\n",
    "            arr[i][j]=1\n",
    "        elif i%2!=0 and j%2!=0:\n",
    "            arr[i][j]=1\n",
    "print(arr)"
   ]
  },
  {
   "cell_type": "code",
   "execution_count": null,
   "id": "25b49f90",
   "metadata": {},
   "outputs": [],
   "source": [
    "import string\n",
    "# a=np.array(list(string.ascii_uppercase)[:-2]).reshape(6,4)\n",
    "a=list(string.ascii_uppercase)\n",
    "for i in range(len(a)):\n",
    "    if a[i]==\"A\" or a[i]==\"E\" or a[i]==\"I\" or a[i]==\"O\" or a[i]==\"U\":\n",
    "        a[i]=np.nan\n",
    "\n",
    "print(a)\n"
   ]
  }
 ],
 "metadata": {
  "kernelspec": {
   "display_name": "Python 3 (ipykernel)",
   "language": "python",
   "name": "python3"
  },
  "language_info": {
   "codemirror_mode": {
    "name": "ipython",
    "version": 3
   },
   "file_extension": ".py",
   "mimetype": "text/x-python",
   "name": "python",
   "nbconvert_exporter": "python",
   "pygments_lexer": "ipython3",
   "version": "3.9.13"
  }
 },
 "nbformat": 4,
 "nbformat_minor": 5
}
